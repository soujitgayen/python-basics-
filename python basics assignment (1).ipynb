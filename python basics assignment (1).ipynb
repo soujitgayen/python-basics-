{
  "nbformat": 4,
  "nbformat_minor": 0,
  "metadata": {
    "colab": {
      "provenance": []
    },
    "kernelspec": {
      "name": "python3",
      "display_name": "Python 3"
    },
    "language_info": {
      "name": "python"
    }
  },
  "cells": [
    {
      "cell_type": "code",
      "execution_count": null,
      "metadata": {
        "id": "Ae8APxSwzPlQ"
      },
      "outputs": [],
      "source": []
    },
    {
      "cell_type": "markdown",
      "source": [
        "\n",
        "#1. What is Python, and why is it popular?\n",
        "  .python is ahigh-level,interprited programing language thatis widely used forweb development,artificial intelligence etc .It was created by GUIDO VAN ROSSUM.\n",
        "  Python is popular for its simplicity readability and easy to use.\n",
        "#2. What is an interpreter in Python?\n",
        "  .An interpreter in python is a programing that tranlate the high level python codes into matchine language.\n",
        "#3.What are pre-defined keywords in Python?\n",
        "  .python  has 36 pre defined keywords with specific meanings\n",
        "  **VALUE KEYWORDS**: True,False,None,\n",
        "  **OPERATOR KEYWORDS**:And,or,not,in,is,\n",
        "  **CONTROL FLOW KEYWORDS**:If,else,elif,\n",
        "  **IRERATION KEYWORDS**:For,while,break,continue,else,\n",
        "  **STRUCTURE KEYWORDS**:Def,class,with,as,pass,lambda,\n",
        "  **RETURNING KEYWORDS**:Return,yield\n",
        "  **IMPORT KEYWORDS**:Import,from,as.\n",
        "#4.Can keywords be used as variable names?\n",
        "  .No,the keywords cantot be used as variable name.\n",
        "#5. What is mutability in Python?\n",
        "  .In Python,mutability refers to the capability of an object to be changed or modified after its creation.  \n",
        "#6. Why are lists mutable, but tuples are immutable?\n",
        "  .Lists are mutable because they are designed for flexibility, allowing elements to be modified, added, or removed. Tuples are immutable to provide data integrity, safety, ensuring the data cannot be changed once created.\n",
        "#7. What is the difference between “==” and “is” operators in Python?\n",
        "  .The == operator checks if the values of two objects are equal, while the is operator checks  two objects refer to the same memory location .\n",
        "#8. What are logical operators in Python?\n",
        "  .logical operations in python  are keywords that connect and evalute multiple conditions in a single expression.\n",
        "  main logical operators are and, or, not.\n",
        "#9.What is type casting in Python?\n",
        "  .The type casting is the process of converting a variable's data type to another data type.\n",
        "#10.What is the difference between implicit and explicit type casting?\n",
        "  .IMPLICIT TYPE CASTING:The process when the compiler autometicallychanges the data type of a value.\n",
        "  EXPLICIT TYPE CASTING: The process when we manually change any data type of avalue is known as explicit type casting.\n",
        "#11.What is the purpose of conditional statements in Python?\n",
        "  .The purpose of conditional statements in Python is to control the flow of execution based on specific conditions. They allow the program to make decisions and execute different blocks of code depending on whether a condition is True or False.\n",
        "  The main conditional statements are:if,elif,else.\n",
        "#12.How does the elif statement work?\n",
        "  .The elif (short for \"else if\") statement in Python is used to check additional conditions if the preceding if condition is False. It allows us to specify multiple conditions to test.\n",
        "#13. What is the difference between for and while loops?\n",
        "  .A for loop used when we know how many times to repeat a block of code , while a while loop is used when we dont know know how many times to repeat a block of code.\n",
        "#14.Describe a scenario where a while loop is more suitable than a for loop.\n",
        "  . Reading user input until a valid responce is recieved\n",
        "  example\n",
        "  while true:\n",
        "    try:\n",
        "  age= int(input(\"please enter your age\"))\n",
        "  if 1<=age<=20:\n",
        "     print(\"thankyou!your age is valid.\")\n",
        "     break\n",
        "  else:\n",
        "     print(\"invalid age.please try again\")\n",
        "  except valueerror:\n",
        "     print(\"invalid input .please enter a whole number.\")\n",
        "     \n",
        "\n",
        "\n",
        "\n",
        "\n",
        "\n",
        "  "
      ],
      "metadata": {
        "id": "UhL9XKixz8UH"
      }
    },
    {
      "cell_type": "code",
      "source": [],
      "metadata": {
        "id": "fXhvPagf9p64"
      },
      "execution_count": null,
      "outputs": []
    },
    {
      "cell_type": "code",
      "source": [
        "# Write a Python program to print \"Hello, World!\"\n",
        "print(\"Hello,World!\")"
      ],
      "metadata": {
        "colab": {
          "base_uri": "https://localhost:8080/"
        },
        "id": "ErTS4v0SvkZb",
        "outputId": "68df6684-c0e3-4b56-b6c9-d8aab471904a"
      },
      "execution_count": null,
      "outputs": [
        {
          "output_type": "stream",
          "name": "stdout",
          "text": [
            "Hello,World!\n"
          ]
        }
      ]
    },
    {
      "cell_type": "code",
      "source": [
        "# Write a Python program that displays your name and age\n",
        "name= \"soujit gayen\"\n",
        "age =22\n",
        "print(\"my name is:\",name)\n",
        "print(\"my age is:\",age)"
      ],
      "metadata": {
        "colab": {
          "base_uri": "https://localhost:8080/"
        },
        "id": "PewmtcKPwBeY",
        "outputId": "7aa3fbe4-b127-4f1f-9f28-2735db1a9db0"
      },
      "execution_count": null,
      "outputs": [
        {
          "output_type": "stream",
          "name": "stdout",
          "text": [
            "my name is: soujit gayen\n",
            "my age is: 22\n"
          ]
        }
      ]
    },
    {
      "cell_type": "code",
      "source": [
        "# Write code to print all the pre-defined keywords in Python using the keyword library\n",
        "\n",
        "print(\"Python Keywords:\")\n",
        "print(keyword.kwlist)\n"
      ],
      "metadata": {
        "colab": {
          "base_uri": "https://localhost:8080/"
        },
        "id": "jo699yinxa-o",
        "outputId": "5db4074a-f9ed-4c34-c408-a6a6c8f47b23"
      },
      "execution_count": null,
      "outputs": [
        {
          "output_type": "stream",
          "name": "stdout",
          "text": [
            "Python Keywords:\n",
            "['False', 'None', 'True', 'and', 'as', 'assert', 'async', 'await', 'break', 'class', 'continue', 'def', 'del', 'elif', 'else', 'except', 'finally', 'for', 'from', 'global', 'if', 'import', 'in', 'is', 'lambda', 'nonlocal', 'not', 'or', 'pass', 'raise', 'return', 'try', 'while', 'with', 'yield']\n"
          ]
        }
      ]
    },
    {
      "cell_type": "code",
      "source": [
        "#Write a program that checks if a given word is a Python keyword\n",
        "\n",
        "A = input(\"Enter a word to check if it's a Python keyword: \")\n",
        "if keyword.iskeyword(A):\n",
        "    print(\"TRUE\")\n",
        "else:\n",
        "    print(\"FALSE\")\n"
      ],
      "metadata": {
        "colab": {
          "base_uri": "https://localhost:8080/"
        },
        "id": "K21TSJia3vmc",
        "outputId": "297772c8-c230-41f5-f042-f11055b90496"
      },
      "execution_count": null,
      "outputs": [
        {
          "output_type": "stream",
          "name": "stdout",
          "text": [
            "Enter a word to check if it's a Python keyword: as\n",
            "TRUE\n"
          ]
        }
      ]
    },
    {
      "cell_type": "code",
      "source": [
        "# Create a list and tuple in Python, and demonstrate how attempting to change an element works differently for both\n",
        "# Create a list and tuple in Python, and demonstrate how attempting to change an element works differently for both\n",
        "mylist=[1,2,3,4,5]\n",
        "mylist[2]=6\n",
        "print (\"list after change:\",mylist)\n",
        "mytuple=(0,9,8,76)\n",
        "\n",
        "try:\n",
        "    mytuple[3] = 5\n",
        "except TypeError as e:\n",
        "    print(f\"Error: {e}\")\n",
        "print(\"original tuple:\",mytuple)\n",
        "\n",
        "new_tuple = mytuple[:3] + (5,)\n",
        "print(\"modified tuple:\", new_tuple)\n",
        "\n",
        "\n",
        "\n"
      ],
      "metadata": {
        "colab": {
          "base_uri": "https://localhost:8080/"
        },
        "id": "0Y_qj7b06bOa",
        "outputId": "0a00c0a8-544c-44fb-de5f-8eeb2ed444d9"
      },
      "execution_count": null,
      "outputs": [
        {
          "output_type": "stream",
          "name": "stdout",
          "text": [
            "list after change: [1, 2, 6, 4, 5]\n",
            "Error: 'tuple' object does not support item assignment\n",
            "original tuple: (0, 9, 8, 76)\n",
            "modified tuple: (0, 9, 8, 5)\n"
          ]
        }
      ]
    },
    {
      "cell_type": "code",
      "source": [
        "#Write a function to demonstrate the behavior of mutable and immutable arguments\n",
        "def demonstrate_mutable_immutable(mutable_arg, immutable_arg):\n",
        "    print(\"Before modification:\")\n",
        "    print(\"Mutable argument:\", mutable_arg)\n",
        "    print(\"Immutable argument:\", immutable_arg)\n",
        "\n",
        "\n",
        "    mutable_arg.append(4)\n",
        "\n",
        "\n",
        "    immutable_arg = 100\n",
        "\n",
        "    print(\"\\nAfter modification:\")\n",
        "    print(\"Mutable argument:\", mutable_arg)\n",
        "    print(\"Immutable argument:\", immutable_arg)\n",
        "\n",
        "# Example usage\n",
        "my_list = [1, 2, 3]\n",
        "my_number = 42\n",
        "\n",
        "demonstrate_mutable_immutable(my_list, my_number)\n"
      ],
      "metadata": {
        "id": "OG1FN5BL-5Jx",
        "colab": {
          "base_uri": "https://localhost:8080/"
        },
        "outputId": "d34e8c1a-1ab9-46f3-9176-b4365529856c"
      },
      "execution_count": 2,
      "outputs": [
        {
          "output_type": "stream",
          "name": "stdout",
          "text": [
            "Before modification:\n",
            "Mutable argument: [1, 2, 3]\n",
            "Immutable argument: 42\n",
            "\n",
            "After modification:\n",
            "Mutable argument: [1, 2, 3, 4]\n",
            "Immutable argument: 100\n"
          ]
        }
      ]
    },
    {
      "cell_type": "code",
      "source": [
        "#Write a program to demonstrate the use of logical operator\n",
        "x = True\n",
        "y = False\n",
        "\n",
        "# AND, OR, and NOT logical operations\n",
        "print(f\"x AND y: {x and y}\")\n",
        "print(f\"x OR y: {x or y}\")\n",
        "print(f\"NOT x: {not x}\")\n",
        "\n"
      ],
      "metadata": {
        "colab": {
          "base_uri": "https://localhost:8080/"
        },
        "id": "QqH13EU7-8HK",
        "outputId": "17ad5c3e-40f9-48cf-8982-3c060fdfbe83"
      },
      "execution_count": null,
      "outputs": [
        {
          "output_type": "stream",
          "name": "stdout",
          "text": [
            "x AND y: False\n",
            "x OR y: True\n",
            "NOT x: False\n"
          ]
        }
      ]
    },
    {
      "cell_type": "code",
      "source": [
        "# Write a Python program to convert user input from string to integer, float, and boolean types\n",
        "userinput=str(input(\"a value:\"))\n",
        "integerinput =int(userinput)\n",
        "floatinput=float(userinput)\n",
        "booleaninput=bool(userinput)\n",
        "print(\"intiger value;\",integerinput)\n",
        "print(\"float value;\",floatinput)\n",
        "print(\"boolian value:\",booleaninput)"
      ],
      "metadata": {
        "colab": {
          "base_uri": "https://localhost:8080/"
        },
        "id": "hIVOHP-ACBUT",
        "outputId": "c4b75d9a-f44d-4aa8-ecb4-c3a863602a20"
      },
      "execution_count": null,
      "outputs": [
        {
          "output_type": "stream",
          "name": "stdout",
          "text": [
            "a value:12\n",
            "intiger value; 12\n",
            "float value; 12.0\n",
            "boolian value: True\n"
          ]
        }
      ]
    },
    {
      "cell_type": "code",
      "source": [
        "# Write code to demonstrate type casting with list elements\n",
        "a=int(\"2\")\n",
        "b=float(\"2\")\n",
        "print(type(a))\n",
        "print(type(b))"
      ],
      "metadata": {
        "id": "QJYu9FY7EcQH",
        "colab": {
          "base_uri": "https://localhost:8080/"
        },
        "outputId": "683f3a76-868e-4476-cc43-e0ffa9008885"
      },
      "execution_count": 3,
      "outputs": [
        {
          "output_type": "stream",
          "name": "stdout",
          "text": [
            "<class 'int'>\n",
            "<class 'float'>\n"
          ]
        }
      ]
    },
    {
      "cell_type": "code",
      "source": [
        "# Write a program that checks if a number is positive, negative, or zero\n",
        "num=int(input(\"enter any numbetr:\"))\n",
        "if num>0:\n",
        "  print(\"possitive\")\n",
        "elif num<0:\n",
        "  print(\"negetive\")\n",
        "else:\n",
        "  print(\"zero\")"
      ],
      "metadata": {
        "colab": {
          "base_uri": "https://localhost:8080/"
        },
        "id": "VsY0bUwbAJtS",
        "outputId": "2e4efba4-41b8-401b-fe57-3943cd8489d5"
      },
      "execution_count": 7,
      "outputs": [
        {
          "output_type": "stream",
          "name": "stdout",
          "text": [
            "enter any numbetr:-8\n",
            "negetive\n"
          ]
        }
      ]
    },
    {
      "cell_type": "code",
      "source": [
        "# Write a for loop to print numbers from 1 to 10\n",
        "for i in range (1,11):\n",
        "  print(i)"
      ],
      "metadata": {
        "colab": {
          "base_uri": "https://localhost:8080/"
        },
        "id": "iakFs0T7BZZ8",
        "outputId": "573193f4-298d-4c9c-ff2c-0195e72b0c5d"
      },
      "execution_count": 11,
      "outputs": [
        {
          "output_type": "stream",
          "name": "stdout",
          "text": [
            "1\n",
            "2\n",
            "3\n",
            "4\n",
            "5\n",
            "6\n",
            "7\n",
            "8\n",
            "9\n",
            "10\n"
          ]
        }
      ]
    },
    {
      "cell_type": "code",
      "source": [
        "#Write a Python program to find the sum of all even numbers between 1 and 50\n",
        "\n",
        "evensum = 0\n",
        "for num in range(1, 50):\n",
        "    if num % 2 == 0:\n",
        "        evensum += num\n",
        "print(\"The sum of all even numbers between 1 and 50 is:\", evensum)"
      ],
      "metadata": {
        "colab": {
          "base_uri": "https://localhost:8080/"
        },
        "id": "irW8WfAFCSr3",
        "outputId": "4dc9b022-d584-411f-8642-6d328334f723"
      },
      "execution_count": 25,
      "outputs": [
        {
          "output_type": "stream",
          "name": "stdout",
          "text": [
            "The sum of all even numbers between 1 and 50 is: 600\n"
          ]
        }
      ]
    },
    {
      "cell_type": "code",
      "source": [
        "#Write a program to reverse a string using a while loop\n",
        "def reverse_string(input_string):\n",
        "    reversed_string = \"\"\n",
        "    index = len(input_string) - 1\n",
        "    while index >= 0:\n",
        "        reversed_string += input_string[index]\n",
        "        index -= 1\n"
      ],
      "metadata": {
        "id": "iL9KRUxkHjUT"
      },
      "execution_count": 36,
      "outputs": []
    },
    {
      "cell_type": "code",
      "source": [
        "# Write a Python program to calculate the factorial of a number provided by the user using a while loop\n",
        "def factorial(n):\n",
        "    if n <0:\n",
        "      return None\n",
        "      result =1\n",
        "      while n>0:\n",
        "        result *=n\n",
        "        n -=1\n",
        "        return result"
      ],
      "metadata": {
        "id": "wlxdddVtIJVz"
      },
      "execution_count": 37,
      "outputs": []
    }
  ]
}